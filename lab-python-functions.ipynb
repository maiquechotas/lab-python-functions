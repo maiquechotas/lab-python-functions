{
 "cells": [
  {
   "cell_type": "markdown",
   "id": "25d7736c-ba17-4aff-b6bb-66eba20fbf4e",
   "metadata": {},
   "source": [
    "# Lab | Functions"
   ]
  },
  {
   "cell_type": "markdown",
   "id": "0c581062-8967-4d93-b06e-62833222f930",
   "metadata": {
    "tags": []
   },
   "source": [
    "## Exercise: Managing Customer Orders with Functions\n",
    "\n",
    "In the previous exercise, you improved the code for managing customer orders by using loops and flow control. Now, let's take it a step further and refactor the code by introducing functions.\n",
    "\n",
    "Follow the steps below to complete the exercise:\n",
    "\n",
    "1. Define a function named `initialize_inventory` that takes `products` as a parameter. Inside the function, implement the code for initializing the inventory dictionary using a loop and user input.\n",
    "\n",
    "2. Define a function named `get_customer_orders` that takes no parameters. Inside the function, implement the code for prompting the user to enter the product names using a loop. The function should return the `customer_orders` set.\n",
    "\n",
    "3. Define a function named `update_inventory` that takes `customer_orders` and `inventory` as parameters. Inside the function, implement the code for updating the inventory dictionary based on the customer orders.\n",
    "\n",
    "4. Define a function named `calculate_order_statistics` that takes `customer_orders` and `products` as parameters. Inside the function, implement the code for calculating the order statistics (total products ordered, and percentage of unique products ordered). The function should return these values.\n",
    "\n",
    "5. Define a function named `print_order_statistics` that takes `order_statistics` as a parameter. Inside the function, implement the code for printing the order statistics.\n",
    "\n",
    "6. Define a function named `print_updated_inventory` that takes `inventory` as a parameter. Inside the function, implement the code for printing the updated inventory.\n",
    "\n",
    "7. Call the functions in the appropriate sequence to execute the program and manage customer orders.\n",
    "\n",
    "Hints for functions:\n",
    "\n",
    "- Consider the input parameters required for each function and their return values.\n",
    "- Utilize function parameters and return values to transfer data between functions.\n",
    "- Test your functions individually to ensure they work correctly.\n",
    "\n",
    "\n"
   ]
  },
  {
   "cell_type": "code",
   "execution_count": 13,
   "id": "2b995a73",
   "metadata": {},
   "outputs": [],
   "source": [
    "#1. Define a function named `initialize_inventory` that takes `products` as a parameter. \n",
    "# Inside the function, implement the code for initializing the inventory dictionary using a loop and user input.\n",
    "\n",
    "#we define the list of products\n",
    "products = [\"t-shirt\", \"mug\", \"hat\", \"book\", \"keychain\"]\n",
    "\n",
    "#we create the function, returning the inventory\n",
    "def initialize_inventory (product_list):\n",
    "\n",
    "    inventory_function={}\n",
    "    for product in product_list: #we use the for loop to fill the keys with product and the values with the input\n",
    "        inventory_function[product] = int(input(f\"¿How many {product} are there?\"))\n",
    "\n",
    "    #print (inventory_function)\n",
    "    return (inventory_function)\n",
    "\n",
    "#we pass the inventory from the function to our inventory (dictionary)    \n",
    "#inventory=initialize_inventory(products)\n",
    "\n",
    "#print(inventory)"
   ]
  },
  {
   "cell_type": "code",
   "execution_count": 21,
   "id": "2c12f0d4",
   "metadata": {},
   "outputs": [],
   "source": [
    "#2. Define a function named `get_customer_orders` that takes no parameters. \n",
    "#Inside the function, implement the code for prompting the user to enter the product names using a loop. \n",
    "#The function should return the `customer_orders` set.\n",
    "\n",
    "def get_customer_orders():\n",
    "\n",
    "    yes_no=True\n",
    "    customer_orders_function=set()\n",
    "\n",
    "    while yes_no==True: # Continue looping as long as yes_no is True\n",
    "        answer=input(f\"Do you want to order any product? Introduce Yes or No\").lower()\n",
    "        if answer==\"yes\":\n",
    "            product_name = input(\"Introduce the name of the product that you want to order: \").lower()\n",
    "            if product_name in products:\n",
    "                customer_orders_function.add(product_name)\n",
    "            else:\n",
    "                print(f\"Invalid product. You can choose between {products}\")\n",
    "        elif answer == \"no\":\n",
    "            print(\"Ok, no more products.\")\n",
    "            print (f\"The user wants to order these products: {customer_orders_function}\")  \n",
    "            yes_no=False # Stop the loop when the user says \"no\"\n",
    "            break\n",
    "        else:\n",
    "            print(\"Non valida answer, please introduce yes or not\")\n",
    "            \n",
    "    return (customer_orders_function) # Return the set after exiting the loop\n",
    " "
   ]
  },
  {
   "cell_type": "code",
   "execution_count": 4,
   "id": "bfe552f2",
   "metadata": {},
   "outputs": [],
   "source": [
    "#3. Define a function named `update_inventory` that takes `customer_orders` and `inventory` as parameters. \n",
    "# Inside the function, implement the code for updating the inventory dictionary based on the customer orders.\n",
    "\n",
    "def update_inventory (customer_orders, inventory):\n",
    "\n",
    "    for product in customer_orders:\n",
    "        inventory[product]-=1\n",
    "        "
   ]
  },
  {
   "cell_type": "code",
   "execution_count": 24,
   "id": "9f48f572",
   "metadata": {},
   "outputs": [],
   "source": [
    "#4. Define a function named `calculate_order_statistics` that takes `customer_orders` and `products` as parameters. \n",
    "#Inside the function, implement the code for calculating the order statistics (total products ordered, and percentage of unique products ordered). \n",
    "#The function should return these values.\n",
    "\n",
    "def calculate_order_statistics (customer_orders, products):\n",
    "    \n",
    "    total_products_ordered=len(customer_orders)\n",
    "    percentage_products_ordered=len(customer_orders)/len(products)*100\n",
    "\n",
    "    return (total_products_ordered, percentage_products_ordered)\n",
    "\n",
    "#order_statistics=(calculate_order_statistics(customer_orders, products))\n",
    "\n",
    "#print(f\"The total of unique products ordered: {order_statistics[0]} \\nThe percentage of unique products ordered: {order_statistics[1]}%\")\n"
   ]
  },
  {
   "cell_type": "code",
   "execution_count": 6,
   "id": "336e3ca5",
   "metadata": {},
   "outputs": [],
   "source": [
    "#5. Define a function named `print_order_statistics` that takes `order_statistics` as a parameter. \n",
    "# Inside the function, implement the code for printing the order statistics.\n",
    "\n",
    "def print_order_statistics (order_statistics):\n",
    "    print(f\"The total of unique products ordered: {order_statistics[0]} \\nThe percentage of unique products ordered: {order_statistics[1]}%\")\n",
    "\n",
    "#print_order_statistics(order_statistics)"
   ]
  },
  {
   "cell_type": "code",
   "execution_count": 25,
   "id": "7bc15590",
   "metadata": {},
   "outputs": [],
   "source": [
    "#6. Define a function named `print_updated_inventory` that takes `inventory` as a parameter. \n",
    "# Inside the function, implement the code for printing the updated inventory.\n",
    "\n",
    "def print_updated_inventory (inventory):\n",
    "    print (\"Updated inventory:\")\n",
    "    for product in inventory:\n",
    "        print(f\"{product} {inventory[product]}\")\n",
    "\n",
    "#print_updated_inventory(inventory)\n",
    "    "
   ]
  },
  {
   "cell_type": "code",
   "execution_count": 26,
   "id": "b0fdf520",
   "metadata": {},
   "outputs": [
    {
     "name": "stdout",
     "output_type": "stream",
     "text": [
      "Invalid product. You can choose between ['t-shirt', 'mug', 'hat', 'book', 'keychain']\n",
      "Invalid product. You can choose between ['t-shirt', 'mug', 'hat', 'book', 'keychain']\n",
      "Non valida answer, please introduce yes or not\n",
      "Ok, no more products.\n",
      "The user wants to order these products: {'book'}\n",
      "The total of unique products ordered: 1 \n",
      "The percentage of unique products ordered: 20.0%\n",
      "Updated inventory:\n",
      "t-shirt 5\n",
      "mug 6\n",
      "hat 7\n",
      "book 7\n",
      "keychain 9\n"
     ]
    }
   ],
   "source": [
    "#7. Call the functions in the appropriate sequence to execute the program and manage customer orders.\n",
    "\n",
    "inventory=initialize_inventory(products)\n",
    "customer_orders=get_customer_orders()\n",
    "order_statistics=(calculate_order_statistics(customer_orders, products))\n",
    "print_order_statistics(order_statistics)\n",
    "update_inventory(customer_orders, inventory)\n",
    "print_updated_inventory(inventory)"
   ]
  }
 ],
 "metadata": {
  "kernelspec": {
   "display_name": "Python 3 (ipykernel)",
   "language": "python",
   "name": "python3"
  },
  "language_info": {
   "codemirror_mode": {
    "name": "ipython",
    "version": 3
   },
   "file_extension": ".py",
   "mimetype": "text/x-python",
   "name": "python",
   "nbconvert_exporter": "python",
   "pygments_lexer": "ipython3",
   "version": "3.12.6"
  }
 },
 "nbformat": 4,
 "nbformat_minor": 5
}
